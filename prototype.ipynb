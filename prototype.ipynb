{
 "metadata": {
  "language_info": {
   "codemirror_mode": {
    "name": "ipython",
    "version": 3
   },
   "file_extension": ".py",
   "mimetype": "text/x-python",
   "name": "python",
   "nbconvert_exporter": "python",
   "pygments_lexer": "ipython3",
   "version": "3.8.5"
  },
  "orig_nbformat": 4,
  "kernelspec": {
   "name": "python3",
   "display_name": "Python 3.8.5 64-bit"
  },
  "interpreter": {
   "hash": "916dbcbb3f70747c44a77c7bcd40155683ae19c65e1c03b4aa3499c5328201f1"
  }
 },
 "nbformat": 4,
 "nbformat_minor": 2,
 "cells": [
  {
   "cell_type": "code",
   "execution_count": 20,
   "metadata": {},
   "outputs": [],
   "source": [
    "class AgreementPath:\n",
    "    def __init__(self):\n",
    "        self.state = None\n",
    "        self.model = {}\n",
    "\n",
    "    def transition_to(self, NewState):\n",
    "        self.state.destroy()\n",
    "        self.state = NewState(self)\n",
    "\n",
    "    def start(self):\n",
    "        self.state = self.init(self)\n",
    "        print(self.state.__class__.__name__)\n",
    "\n",
    "    def tick(self):\n",
    "        self.state.check()"
   ]
  },
  {
   "cell_type": "code",
   "execution_count": 21,
   "metadata": {},
   "outputs": [],
   "source": [
    "class AgreementState:\n",
    "    def __init__(self, container):\n",
    "        self.container = container\n",
    "        self.name = \"\"\n",
    "        self.create()\n",
    "    \n",
    "    def transition(self, NextState):\n",
    "        self.container.transition_to(NextState)\n",
    "\n",
    "    def create(self):\n",
    "        pass\n",
    "\n",
    "    def destroy(self):\n",
    "        pass\n",
    "    \n"
   ]
  },
  {
   "source": [
    "class NDA(AgreementPath):\n",
    "    class Registration(AgreementState):\n",
    "        def create(self):\n",
    "            self.name = \"registration\"\n",
    "\n",
    "        def check(self):\n",
    "            self.transition_to(NDA.Maintenance)\n",
    "        \n",
    "        def destroy(self):\n",
    "            print('ending', self.name)\n",
    "    \n",
    "    class Maintenance(AgreementState):\n",
    "        def create(self):\n",
    "            self.name = \"maintenance\"\n",
    "\n",
    "        def destroy(self):\n",
    "            print('ending', self.name)\n",
    "    \n",
    "    init = Registration\n"
   ],
   "cell_type": "code",
   "metadata": {},
   "execution_count": 22,
   "outputs": []
  },
  {
   "cell_type": "code",
   "execution_count": 23,
   "metadata": {},
   "outputs": [
    {
     "output_type": "stream",
     "name": "stdout",
     "text": [
      "Registration\n"
     ]
    }
   ],
   "source": [
    "a = NDA()\n",
    "a.start()"
   ]
  },
  {
   "cell_type": "code",
   "execution_count": 25,
   "metadata": {},
   "outputs": [
    {
     "output_type": "stream",
     "name": "stdout",
     "text": [
      "ending registration\n"
     ]
    }
   ],
   "source": [
    "a.tick()"
   ]
  },
  {
   "cell_type": "code",
   "execution_count": null,
   "metadata": {},
   "outputs": [],
   "source": []
  }
 ]
}
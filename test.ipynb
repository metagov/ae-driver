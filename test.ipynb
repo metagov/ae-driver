{
 "metadata": {
  "language_info": {
   "codemirror_mode": {
    "name": "ipython",
    "version": 3
   },
   "file_extension": ".py",
   "mimetype": "text/x-python",
   "name": "python",
   "nbconvert_exporter": "python",
   "pygments_lexer": "ipython3",
   "version": "3.8.5"
  },
  "orig_nbformat": 4,
  "kernelspec": {
   "name": "python3",
   "display_name": "Python 3.8.5 64-bit"
  },
  "interpreter": {
   "hash": "916dbcbb3f70747c44a77c7bcd40155683ae19c65e1c03b4aa3499c5328201f1"
  }
 },
 "nbformat": 4,
 "nbformat_minor": 2,
 "cells": [
  {
   "cell_type": "code",
   "execution_count": 7,
   "metadata": {},
   "outputs": [],
   "source": [
    "class Fragment:\n",
    "    def __init__(self, container, name):\n",
    "        self.container = container\n",
    "        self.name = name\n",
    "\n",
    "    def speak(self):\n",
    "        print(f\"I am {self.name}, from {self.container.name}\")"
   ]
  },
  {
   "cell_type": "code",
   "execution_count": 3,
   "metadata": {},
   "outputs": [],
   "source": [
    "class Container:\n",
    "    def __init__(self, name):\n",
    "        self.name = name\n",
    "        self.fragments = []\n",
    "\n",
    "    def add_fragment(self, name):\n",
    "        self.fragments.append(\n",
    "            Fragment(self, name)\n",
    "        )\n",
    "    \n",
    "    def converse(self):\n",
    "        for frag in self.fragments:\n",
    "            print(f\"I am {self.name}, who are you?\")\n",
    "            frag.speak()    "
   ]
  },
  {
   "cell_type": "code",
   "execution_count": 4,
   "metadata": {},
   "outputs": [],
   "source": [
    "c = Container('Box')"
   ]
  },
  {
   "cell_type": "code",
   "execution_count": 10,
   "metadata": {},
   "outputs": [
    {
     "output_type": "stream",
     "name": "stdout",
     "text": [
      "I am Box, who are you?\nI am Marble\nI am Box, who are you?\nI am Pencil\nI am Box, who are you?\nI am Marble, from Box\nI am Box, who are you?\nI am Pencil, from Box\nI am Box, who are you?\nI am Marble, from Box\nI am Box, who are you?\nI am Pencil, from Box\nI am Box, who are you?\nI am Marble, from Box\nI am Box, who are you?\nI am Pencil, from Box\n"
     ]
    }
   ],
   "source": [
    "c.add_fragment('Marble')\n",
    "c.add_fragment('Pencil')\n",
    "c.converse()"
   ]
  },
  {
   "cell_type": "code",
   "execution_count": 11,
   "metadata": {},
   "outputs": [],
   "source": [
    "class Test:\n",
    "    name = \"test name\"\n",
    "    def __init__(self, desc):\n",
    "        self.desc = desc"
   ]
  },
  {
   "cell_type": "code",
   "execution_count": 12,
   "metadata": {},
   "outputs": [],
   "source": [
    "t = Test(\"a test class\")"
   ]
  },
  {
   "cell_type": "code",
   "execution_count": 13,
   "metadata": {},
   "outputs": [
    {
     "output_type": "execute_result",
     "data": {
      "text/plain": [
       "'test name'"
      ]
     },
     "metadata": {},
     "execution_count": 13
    }
   ],
   "source": [
    "t.name"
   ]
  },
  {
   "cell_type": "code",
   "execution_count": 14,
   "metadata": {},
   "outputs": [
    {
     "output_type": "execute_result",
     "data": {
      "text/plain": [
       "__main__.Test"
      ]
     },
     "metadata": {},
     "execution_count": 14
    }
   ],
   "source": [
    "t.__class__"
   ]
  },
  {
   "cell_type": "code",
   "execution_count": 16,
   "metadata": {},
   "outputs": [
    {
     "output_type": "execute_result",
     "data": {
      "text/plain": [
       "'Test'"
      ]
     },
     "metadata": {},
     "execution_count": 16
    }
   ],
   "source": [
    "t.__class__.__name__"
   ]
  },
  {
   "cell_type": "code",
   "execution_count": null,
   "metadata": {},
   "outputs": [],
   "source": []
  }
 ]
}